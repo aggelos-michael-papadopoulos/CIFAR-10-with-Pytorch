{
  "nbformat": 4,
  "nbformat_minor": 0,
  "metadata": {
    "colab": {
      "name": "improving with data_augmentation & batch_normalization.ipynb",
      "provenance": [],
      "authorship_tag": "ABX9TyNe4+Kpq6eti+3BhHwCcJoL",
      "include_colab_link": true
    },
    "kernelspec": {
      "name": "python3",
      "display_name": "Python 3"
    },
    "language_info": {
      "name": "python"
    }
  },
  "cells": [
    {
      "cell_type": "markdown",
      "metadata": {
        "id": "view-in-github",
        "colab_type": "text"
      },
      "source": [
        "<a href=\"https://colab.research.google.com/github/Papadopoulos18/CIFAR-10-with-Pytorch/blob/main/improving_with_data_augmentation_%26_batch_normalization.ipynb\" target=\"_parent\"><img src=\"https://colab.research.google.com/assets/colab-badge.svg\" alt=\"Open In Colab\"/></a>"
      ]
    },
    {
      "cell_type": "markdown",
      "source": [
        "# using much larger CNN\n",
        "# using data augmentation"
      ],
      "metadata": {
        "id": "g_exXGzDVqPK"
      }
    },
    {
      "cell_type": "code",
      "execution_count": 23,
      "metadata": {
        "id": "0Cy4K27BUxj2"
      },
      "outputs": [],
      "source": [
        "import torch \n",
        "import torch.nn as nn\n",
        "import torch.nn.functional as F\n",
        "import torchvision\n",
        "import torchvision.transforms as transforms\n",
        "import numpy as np\n",
        "import matplotlib.pyplot as plt\n",
        "from datetime import datetime"
      ]
    },
    {
      "cell_type": "code",
      "source": [
        "transformer_train = torchvision.transforms.Compose([\n",
        "  # torchvision.transforms.ColorJitter(\n",
        "  #   brightness=0.2, contrast=0.2, saturation=0.2, hue=0.2),\n",
        "transforms.RandomCrop(32, padding=4),\n",
        "torchvision.transforms.RandomHorizontalFlip(p=0.5),\n",
        "# torchvision.transforms.RandomRotation(degrees=15),\n",
        "torchvision.transforms.RandomAffine(0, translate=(0.1,0.1)),\n",
        "# torchvision.transforms.RandomPerspective(),\n",
        "transforms.ToTensor(),\n",
        "])\n",
        "\n",
        "train_dataset = torchvision.datasets.CIFAR10(\n",
        "    root = '.',\n",
        "    train = True,\n",
        "    transform=transformer_train,\n",
        "    download=True\n",
        ")\n",
        "\n",
        "test_dataset = torchvision.datasets.CIFAR10(\n",
        "    root = '.',\n",
        "    train = False,\n",
        "    transform=transforms.ToTensor(),\n",
        "    download=True\n",
        ")"
      ],
      "metadata": {
        "colab": {
          "base_uri": "https://localhost:8080/"
        },
        "id": "fD2u7Ij7UyHd",
        "outputId": "602c719f-d1c0-472e-d0b9-0ea09eeab56f"
      },
      "execution_count": 24,
      "outputs": [
        {
          "output_type": "stream",
          "name": "stdout",
          "text": [
            "Files already downloaded and verified\n",
            "Files already downloaded and verified\n"
          ]
        }
      ]
    },
    {
      "cell_type": "code",
      "source": [
        "print(train_dataset.data.shape)\n",
        "print(len(train_dataset.targets))   #targets are a list\n",
        "print(test_dataset.data.shape)\n",
        "print(len(test_dataset.data))"
      ],
      "metadata": {
        "colab": {
          "base_uri": "https://localhost:8080/"
        },
        "id": "50jBNc8WU0q0",
        "outputId": "75547c48-4dd4-4472-89db-a1c17545db4f"
      },
      "execution_count": 25,
      "outputs": [
        {
          "output_type": "stream",
          "name": "stdout",
          "text": [
            "(50000, 32, 32, 3)\n",
            "50000\n",
            "(10000, 32, 32, 3)\n",
            "10000\n"
          ]
        }
      ]
    },
    {
      "cell_type": "code",
      "source": [
        "K = len(set(train_dataset.targets))     #train_dataset.targets->60000x1, .numpy->array([60000x1]),set->dict{0 to 9}\n",
        "print(f'Number of classes are: {K}')"
      ],
      "metadata": {
        "colab": {
          "base_uri": "https://localhost:8080/"
        },
        "id": "4ysjv4F4U3qo",
        "outputId": "ff0bffc8-7800-4342-cc38-1302eba2a5ad"
      },
      "execution_count": 26,
      "outputs": [
        {
          "output_type": "stream",
          "name": "stdout",
          "text": [
            "Number of classes are: 10\n"
          ]
        }
      ]
    },
    {
      "cell_type": "code",
      "source": [
        "batch_size = 128\n",
        "train_loader = torch.utils.data.DataLoader(\n",
        "    dataset=train_dataset,\n",
        "    batch_size=batch_size,\n",
        "    shuffle=True\n",
        ")\n",
        "\n",
        "test_loader = torch.utils.data.DataLoader(\n",
        "    dataset=test_dataset,\n",
        "    batch_size=batch_size,\n",
        "    shuffle=False\n",
        ")"
      ],
      "metadata": {
        "id": "opMjKDT-U9j1"
      },
      "execution_count": 27,
      "outputs": []
    },
    {
      "cell_type": "code",
      "source": [
        "tmp_loader = torch.utils.data.DataLoader(dataset=train_dataset,\n",
        "                                         batch_size=1,\n",
        "                                         shuffle=True)\n",
        "\n",
        "for x, y in tmp_loader:\n",
        "  print(x)\n",
        "  print(x.shape)\n",
        "  break"
      ],
      "metadata": {
        "colab": {
          "base_uri": "https://localhost:8080/"
        },
        "id": "PKI_Je1UVJ4h",
        "outputId": "44c743c1-4286-41c0-9c3b-78e9b5edd639"
      },
      "execution_count": 28,
      "outputs": [
        {
          "output_type": "stream",
          "name": "stdout",
          "text": [
            "tensor([[[[0.0000, 0.0000, 0.0000,  ..., 0.0000, 0.0000, 0.0000],\n",
            "          [0.0000, 0.0000, 0.0000,  ..., 0.0000, 0.0000, 0.0000],\n",
            "          [0.4980, 0.6000, 0.6745,  ..., 0.6157, 0.0000, 0.0000],\n",
            "          ...,\n",
            "          [0.6510, 0.7216, 0.6627,  ..., 0.8235, 0.0000, 0.0000],\n",
            "          [0.6275, 0.6471, 0.6118,  ..., 0.8078, 0.0000, 0.0000],\n",
            "          [0.0000, 0.0000, 0.0000,  ..., 0.0000, 0.0000, 0.0000]],\n",
            "\n",
            "         [[0.0000, 0.0000, 0.0000,  ..., 0.0000, 0.0000, 0.0000],\n",
            "          [0.0000, 0.0000, 0.0000,  ..., 0.0000, 0.0000, 0.0000],\n",
            "          [0.4471, 0.5333, 0.6000,  ..., 0.5882, 0.0000, 0.0000],\n",
            "          ...,\n",
            "          [0.5529, 0.6275, 0.6078,  ..., 0.6431, 0.0000, 0.0000],\n",
            "          [0.5961, 0.5922, 0.5176,  ..., 0.7216, 0.0000, 0.0000],\n",
            "          [0.0000, 0.0000, 0.0000,  ..., 0.0000, 0.0000, 0.0000]],\n",
            "\n",
            "         [[0.0000, 0.0000, 0.0000,  ..., 0.0000, 0.0000, 0.0000],\n",
            "          [0.0000, 0.0000, 0.0000,  ..., 0.0000, 0.0000, 0.0000],\n",
            "          [0.3490, 0.4392, 0.5137,  ..., 0.4824, 0.0000, 0.0000],\n",
            "          ...,\n",
            "          [0.4471, 0.5098, 0.5020,  ..., 0.5647, 0.0000, 0.0000],\n",
            "          [0.4980, 0.5098, 0.4196,  ..., 0.5961, 0.0000, 0.0000],\n",
            "          [0.0000, 0.0000, 0.0000,  ..., 0.0000, 0.0000, 0.0000]]]])\n",
            "torch.Size([1, 3, 32, 32])\n"
          ]
        }
      ]
    },
    {
      "cell_type": "code",
      "source": [
        "from torch.nn.modules.activation import ReLU\n",
        "from torch.nn.modules.linear import Linear\n",
        "from torch.nn.modules import dropout\n",
        "from torch.nn.modules.container import Sequential\n",
        "class CNN(nn.Module):\n",
        "  def __init__(self, K):\n",
        "      super(CNN, self).__init__()\n",
        "\n",
        "      # define the conv layers\n",
        "      self.conv1 = nn.Sequential(\n",
        "          nn.Conv2d(3, 32, kernel_size=3, padding=1),\n",
        "          nn.ReLU(),\n",
        "          nn.BatchNorm2d(32),\n",
        "          nn.Conv2d(32, 32, kernel_size=3, padding=1),\n",
        "          nn.ReLU(),\n",
        "          nn.BatchNorm2d(32),\n",
        "          nn.MaxPool2d(2)\n",
        "      ) \n",
        "\n",
        "      self.conv2 = nn.Sequential(\n",
        "          nn.Conv2d(32, 64, kernel_size=3, padding=1),\n",
        "          nn.ReLU(),\n",
        "          nn.BatchNorm2d(64),\n",
        "          nn.Conv2d(64, 64, kernel_size=3, padding=1),\n",
        "          nn.ReLU(),\n",
        "          nn.BatchNorm2d(64),\n",
        "          nn.MaxPool2d(2)\n",
        "      )\n",
        "\n",
        "      self.conv3 = nn.Sequential(\n",
        "          nn.Conv2d(64, 128, kernel_size=3, padding=1),\n",
        "          nn.ReLU(),\n",
        "          nn.BatchNorm2d(128),\n",
        "          nn.Conv2d(128, 128, kernel_size=3, padding=1),\n",
        "          nn.ReLU(),\n",
        "          nn.BatchNorm2d(128),\n",
        "          nn.MaxPool2d(2)\n",
        "\n",
        "      )\n",
        "# H_out = H_in + 2p - 2 --> p =1 if H_out = H_in\n",
        "\n",
        "# Easy to calculate the output \n",
        "# 32 > 16 > 8 > 4         because of Max.Pool(2)\n",
        "      \n",
        "      #  Define the Linear Layers\n",
        "      self.fc1 = nn.Linear(128 * 4 * 4, 1024)\n",
        "      self.fc2 = nn.Linear(1024, K)\n",
        "\n",
        "\n",
        "  def forward(self, x):\n",
        "    x = self.conv1(x)\n",
        "    x = self.conv2(x)\n",
        "    x = self.conv3(x)\n",
        "    x = x.view(x.size(0), -1)               #out.size(0) -> batch size\n",
        "    x = F.dropout(x, p=0.5)\n",
        "    x = F.relu(self.fc1(x))\n",
        "    x = F.dropout(x, p=0.2)\n",
        "    x = self.fc2(x)\n",
        "    return x\n",
        "\n",
        "\n",
        "# instantiate the model\n",
        "model = CNN(K)"
      ],
      "metadata": {
        "id": "dnm6_ZNuVMA0"
      },
      "execution_count": 33,
      "outputs": []
    },
    {
      "cell_type": "code",
      "source": [
        "device = torch.device(\"cuda:0\" if torch.cuda.is_available() else \"cpu\")\n",
        "print(device)\n",
        "model.to(device)"
      ],
      "metadata": {
        "colab": {
          "base_uri": "https://localhost:8080/"
        },
        "id": "1IVdPwQeVOrc",
        "outputId": "fd14447d-e8f8-4027-d759-efa8fd36e0df"
      },
      "execution_count": 34,
      "outputs": [
        {
          "output_type": "stream",
          "name": "stdout",
          "text": [
            "cpu\n"
          ]
        },
        {
          "output_type": "execute_result",
          "data": {
            "text/plain": [
              "CNN(\n",
              "  (conv1): Sequential(\n",
              "    (0): Conv2d(3, 32, kernel_size=(3, 3), stride=(1, 1), padding=(1, 1))\n",
              "    (1): ReLU()\n",
              "    (2): BatchNorm2d(32, eps=1e-05, momentum=0.1, affine=True, track_running_stats=True)\n",
              "    (3): Conv2d(32, 32, kernel_size=(3, 3), stride=(1, 1), padding=(1, 1))\n",
              "    (4): ReLU()\n",
              "    (5): BatchNorm2d(32, eps=1e-05, momentum=0.1, affine=True, track_running_stats=True)\n",
              "    (6): MaxPool2d(kernel_size=2, stride=2, padding=0, dilation=1, ceil_mode=False)\n",
              "  )\n",
              "  (conv2): Sequential(\n",
              "    (0): Conv2d(32, 64, kernel_size=(3, 3), stride=(1, 1), padding=(1, 1))\n",
              "    (1): ReLU()\n",
              "    (2): BatchNorm2d(64, eps=1e-05, momentum=0.1, affine=True, track_running_stats=True)\n",
              "    (3): Conv2d(64, 64, kernel_size=(3, 3), stride=(1, 1), padding=(1, 1))\n",
              "    (4): ReLU()\n",
              "    (5): BatchNorm2d(64, eps=1e-05, momentum=0.1, affine=True, track_running_stats=True)\n",
              "    (6): MaxPool2d(kernel_size=2, stride=2, padding=0, dilation=1, ceil_mode=False)\n",
              "  )\n",
              "  (conv3): Sequential(\n",
              "    (0): Conv2d(64, 128, kernel_size=(3, 3), stride=(1, 1), padding=(1, 1))\n",
              "    (1): ReLU()\n",
              "    (2): BatchNorm2d(128, eps=1e-05, momentum=0.1, affine=True, track_running_stats=True)\n",
              "    (3): Conv2d(128, 128, kernel_size=(3, 3), stride=(1, 1), padding=(1, 1))\n",
              "    (4): ReLU()\n",
              "    (5): BatchNorm2d(128, eps=1e-05, momentum=0.1, affine=True, track_running_stats=True)\n",
              "    (6): MaxPool2d(kernel_size=2, stride=2, padding=0, dilation=1, ceil_mode=False)\n",
              "  )\n",
              "  (fc1): Linear(in_features=2048, out_features=1024, bias=True)\n",
              "  (fc2): Linear(in_features=1024, out_features=10, bias=True)\n",
              ")"
            ]
          },
          "metadata": {},
          "execution_count": 34
        }
      ]
    },
    {
      "cell_type": "code",
      "source": [
        "criterion = nn.CrossEntropyLoss()\n",
        "optimizer = torch.optim.Adam(model.parameters())"
      ],
      "metadata": {
        "id": "IweEjqhZVQMT"
      },
      "execution_count": 35,
      "outputs": []
    },
    {
      "cell_type": "code",
      "source": [
        "def batch_gd(model, criterion, optimizer, train_loader, test_loader, epochs): \n",
        "  train_losses = np.zeros(epochs)\n",
        "  test_losses = np.zeros(epochs)\n",
        "  \n",
        "  for it in range(epochs):\n",
        "    tO = datetime.now()\n",
        "    train_loss = []\n",
        "    for inputs, targets in train_loader:\n",
        "      # move data to GPU\n",
        "      inputs, targets = inputs.to(device), targets.to(device)\n",
        "\n",
        "      # print(\"inputs.shape: \", inputs.shape)\n",
        "\n",
        "      # zero the parameter gradient\n",
        "      optimizer.zero_grad()\n",
        "\n",
        "      #forward pass\n",
        "      outputs = model(inputs)\n",
        "      # print(\"done getting the model output\")\n",
        "      # print(\"outputs.shape: \", outputs.shape, \"targets.shape: \", targets.shape)\n",
        "      loss = criterion(outputs, targets)\n",
        "\n",
        "      # backward and optimize\n",
        "      # print(\"about to optimize\")\n",
        "      loss.backward()\n",
        "      optimizer.step()\n",
        "\n",
        "      train_loss.append(loss.item())\n",
        "    # get train loss and test loss\n",
        "    train_loss = np.mean(train_loss)\n",
        "\n",
        "    test_loss = []\n",
        "    for inputs, targets in test_loader:\n",
        "        # move data to GPU\n",
        "        inputs, targets = inputs.to(device), targets.to(device)\n",
        "        outputs = model(inputs)\n",
        "        loss = criterion(outputs, targets)\n",
        "        test_loss.append(loss.item())\n",
        "    test_loss = np.mean(test_loss)\n",
        "\n",
        "    # save losses\n",
        "    train_losses[it] = train_loss\n",
        "    test_losses[it] = test_loss\n",
        "\n",
        "    dt = datetime.now() - tO\n",
        "    print(f'Epoch {it + 1}/{epochs}, Train Loss: {train_loss: .4f}, \\\n",
        "    Test Loss: {test_loss: .4f}, duration: {dt}')\n",
        "\n",
        "  return train_losses, test_losses\n",
        "\n",
        "\n",
        "train_losses, test_losses = batch_gd(\n",
        "    model, criterion, optimizer, train_loader, test_loader, epochs=30) \n"
      ],
      "metadata": {
        "colab": {
          "base_uri": "https://localhost:8080/"
        },
        "id": "Be0fKKn4VRj_",
        "outputId": "6c5f09dc-a27c-40a3-d3d1-08e5d9120c9a"
      },
      "execution_count": 37,
      "outputs": [
        {
          "output_type": "stream",
          "name": "stdout",
          "text": [
            "Epoch 1/30, Train Loss:  0.9931,     Test Loss:  0.8784, duration: 0:06:06.146056\n",
            "Epoch 2/30, Train Loss:  0.8438,     Test Loss:  0.7975, duration: 0:06:02.858377\n",
            "Epoch 3/30, Train Loss:  0.7498,     Test Loss:  0.7965, duration: 0:06:01.668889\n",
            "Epoch 4/30, Train Loss:  0.6890,     Test Loss:  0.6948, duration: 0:06:02.031194\n",
            "Epoch 5/30, Train Loss:  0.6345,     Test Loss:  0.7013, duration: 0:06:22.310375\n",
            "Epoch 6/30, Train Loss:  0.6033,     Test Loss:  0.6369, duration: 0:06:02.283278\n",
            "Epoch 7/30, Train Loss:  0.5659,     Test Loss:  0.5979, duration: 0:06:03.113025\n",
            "Epoch 8/30, Train Loss:  0.5471,     Test Loss:  0.5871, duration: 0:06:02.390652\n",
            "Epoch 9/30, Train Loss:  0.5208,     Test Loss:  0.5951, duration: 0:06:02.510738\n",
            "Epoch 10/30, Train Loss:  0.5006,     Test Loss:  0.5677, duration: 0:06:02.163319\n",
            "Epoch 11/30, Train Loss:  0.4896,     Test Loss:  0.5585, duration: 0:06:03.099466\n",
            "Epoch 12/30, Train Loss:  0.4676,     Test Loss:  0.5790, duration: 0:06:02.664502\n",
            "Epoch 13/30, Train Loss:  0.4572,     Test Loss:  0.5657, duration: 0:06:02.380888\n",
            "Epoch 14/30, Train Loss:  0.4439,     Test Loss:  0.5555, duration: 0:06:02.629490\n",
            "Epoch 15/30, Train Loss:  0.4311,     Test Loss:  0.5303, duration: 0:06:01.394603\n",
            "Epoch 16/30, Train Loss:  0.4203,     Test Loss:  0.5326, duration: 0:06:01.452838\n",
            "Epoch 17/30, Train Loss:  0.4124,     Test Loss:  0.5333, duration: 0:06:01.854435\n",
            "Epoch 18/30, Train Loss:  0.4044,     Test Loss:  0.5398, duration: 0:06:01.859738\n",
            "Epoch 19/30, Train Loss:  0.3908,     Test Loss:  0.5139, duration: 0:06:02.690191\n",
            "Epoch 20/30, Train Loss:  0.3827,     Test Loss:  0.5137, duration: 0:06:02.860455\n",
            "Epoch 21/30, Train Loss:  0.3766,     Test Loss:  0.5238, duration: 0:06:02.175849\n",
            "Epoch 22/30, Train Loss:  0.3668,     Test Loss:  0.4993, duration: 0:06:01.124649\n",
            "Epoch 23/30, Train Loss:  0.3559,     Test Loss:  0.4765, duration: 0:06:00.436293\n",
            "Epoch 24/30, Train Loss:  0.3511,     Test Loss:  0.4979, duration: 0:06:00.501531\n",
            "Epoch 25/30, Train Loss:  0.3472,     Test Loss:  0.4870, duration: 0:06:01.393995\n",
            "Epoch 26/30, Train Loss:  0.3419,     Test Loss:  0.4781, duration: 0:06:02.350193\n",
            "Epoch 27/30, Train Loss:  0.3362,     Test Loss:  0.4747, duration: 0:06:02.009094\n",
            "Epoch 28/30, Train Loss:  0.3245,     Test Loss:  0.4702, duration: 0:06:02.162017\n",
            "Epoch 29/30, Train Loss:  0.3234,     Test Loss:  0.4692, duration: 0:06:00.326680\n",
            "Epoch 30/30, Train Loss:  0.3150,     Test Loss:  0.4884, duration: 0:06:01.367078\n"
          ]
        }
      ]
    },
    {
      "cell_type": "code",
      "source": [
        "plt.plot(train_losses, label= 'train loss')\n",
        "plt.plot(test_losses, label= 'test loss')\n",
        "plt.legend()\n",
        "plt.show()\n"
      ],
      "metadata": {
        "colab": {
          "base_uri": "https://localhost:8080/",
          "height": 265
        },
        "id": "BHQZ0xafVTbJ",
        "outputId": "3f021c2a-cec7-4298-bafc-84ededb3d3ca"
      },
      "execution_count": 38,
      "outputs": [
        {
          "output_type": "display_data",
          "data": {
            "image/png": "[encoded data removed]",
            "text/plain": [
              "<Figure size 432x288 with 1 Axes>"
            ]
          },
          "metadata": {
            "needs_background": "light"
          }
        }
      ]
    },
    {
      "cell_type": "code",
      "source": [
        "n_correct = 0.\n",
        "n_total = 0.\n",
        "i=0\n",
        "\n",
        "for inputs, targets in train_loader:\n",
        "  i+=1\n",
        "  # move the data to GPU\n",
        "  inputs, targets = inputs.to(device), targets.to(device)\n",
        "  if ( i==1):\n",
        "    print(inputs.shape)\n",
        "  # forward pass\n",
        "  outputs = model(inputs)\n",
        "\n",
        "  # get predictions\n",
        "  # torch.max returns both max and argmax\n",
        "  _, predictions = torch.max(outputs, 1)\n",
        "\n",
        "  # update counts\n",
        "\n",
        "  n_correct += (predictions == targets).sum().item()\n",
        "  n_total += targets.shape[0]\n",
        "\n",
        "train_acc = n_correct/n_total\n",
        "# print(\"for \", i)\n",
        "# print(inputs.shape)\n",
        "# print(f'------{predictions.shape}--{outputs.shape}----{targets.shape}')\n",
        "n_correct = 0\n",
        "n_total = 0\n",
        "\n",
        "for inputs, targets in test_loader:\n",
        "  inputs, targets = inputs.to(device), targets.to(device)\n",
        "\n",
        "  # forward pass\n",
        "  outputs = model(inputs)\n",
        "\n",
        "  _, predictions = torch.max(outputs, 1)\n",
        "\n",
        "  # update counts\n",
        "  n_correct += (predictions == targets).sum().item()\n",
        "  n_total += targets.shape[0]\n",
        "\n",
        "test_acc = n_correct/n_total\n",
        "\n",
        "print(f'Train acc: {train_acc: .4f}, Test acc: {test_acc: .4f}')\n"
      ],
      "metadata": {
        "colab": {
          "base_uri": "https://localhost:8080/"
        },
        "id": "gQMt-9dEVWcp",
        "outputId": "85c4d04f-ae96-4045-f985-328a8c4baedb"
      },
      "execution_count": 39,
      "outputs": [
        {
          "output_type": "stream",
          "name": "stdout",
          "text": [
            "torch.Size([128, 3, 32, 32])\n",
            "Train acc:  0.9002, Test acc:  0.8464\n"
          ]
        }
      ]
    },
    {
      "cell_type": "code",
      "source": [
        "from sklearn.metrics import confusion_matrix\n",
        "import itertools\n",
        "\n",
        "def plot_confusion_matrix(cm,\n",
        "                          classes,\n",
        "                          normalize=False,\n",
        "                          title='Confusion Matrix',\n",
        "                          cmap=plt.cm.Blues):\n",
        "  \n",
        "  # This function prints and plots the confusion matrix.\n",
        "  # Normalization can be applied by setting 'normalize=True'\n",
        "\n",
        "  if normalize:\n",
        "    cm = cm.astype('float') / (cm.sum(axis=1)[:, np.newaxis])\n",
        "    print('Normalize confusion Matrix')\n",
        "  else:\n",
        "    print('Confusion Matrix without normalization')\n",
        "\n",
        "  print(cm)\n",
        "\n",
        "  plt.imshow(cm, interpolation='nearest', cmap=cmap)\n",
        "  plt.title(title)\n",
        "  plt.colorbar()\n",
        "  tick_marks = np.arange(len(classes))\n",
        "  plt.xticks(tick_marks, classes, rotation=45)\n",
        "  plt.yticks(tick_marks, classes)\n",
        "\n",
        "  fmt = '.2f' if normalize else 'd'\n",
        "  thresh = cm.max() / 2.\n",
        "  for i, j in itertools.product(range(cm.shape[0]), range(cm.shape[1])):\n",
        "    plt.text(j, i, format(cm[i,j], fmt),\n",
        "             horizontalalignment=\"center\",\n",
        "             color=\"white\" if cm[i,j] > thresh else \"black\")\n",
        "    \n",
        "  \n",
        "  plt.tight_layout()\n",
        "  plt.ylabel('True label')\n",
        "  plt.xlabel('predicted label')\n",
        "  plt.show()\n",
        "\n",
        "\n",
        "# get all predictions in an array and plot confusion matrix\n",
        "\n",
        "x_test = test_dataset.data\n",
        "y_test = np.array(test_dataset.targets)\n",
        "p_test = np.array([])\n",
        " \n",
        "for inputs, targets in test_loader:\n",
        "  # move date to GPU\n",
        "  inputs, targets = inputs.to(device), targets.to(device)\n",
        "\n",
        "  # forward pass\n",
        "  outputs = model(inputs)\n",
        "\n",
        "  # Get predictions\n",
        "  _, predictions = torch.max(outputs, 1)\n",
        "\n",
        "  # update p_test\n",
        "  p_test = np.concatenate((p_test, predictions.cpu().numpy()))\n",
        "\n",
        "cm = confusion_matrix(y_test, p_test)\n",
        "plot_confusion_matrix(cm, list(range(10)))"
      ],
      "metadata": {
        "colab": {
          "base_uri": "https://localhost:8080/",
          "height": 502
        },
        "id": "MtZCSxHGVYS5",
        "outputId": "1d050e60-20ad-4967-c1f9-5ba139ad53f1"
      },
      "execution_count": 40,
      "outputs": [
        {
          "output_type": "stream",
          "name": "stdout",
          "text": [
            "Confusion Matrix without normalization\n",
            "[[891  20  17   9   9   3   3   6  32  10]\n",
            " [ 13 946   0   3   0   1   2   3   2  30]\n",
            " [ 57   5 748  46  42  29  52  15   2   4]\n",
            " [ 24   6  23 745  40  86  33  22  12   9]\n",
            " [ 16   1  25  32 850  22  30  19   2   3]\n",
            " [  7   1  18 125  29 755  18  41   2   4]\n",
            " [ 14   2  17  34  18  10 896   3   4   2]\n",
            " [ 17   2  14  28  34  21   6 869   3   6]\n",
            " [ 64  17   4   5   2   0   1   2 895  10]\n",
            " [ 26  72   2   6   0   0   1   2  14 877]]\n"
          ]
        },
        {
          "output_type": "display_data",
          "data": {
            "image/png": "[encoded data removed]",
            "text/plain": [
              "<Figure size 432x288 with 2 Axes>"
            ]
          },
          "metadata": {
            "needs_background": "light"
          }
        }
      ]
    },
    {
      "cell_type": "code",
      "source": [
        "# label mapping \n",
        "labels = '''airplane,\n",
        "Automobile,\n",
        "bird,\n",
        "Cat,\n",
        "Deer,\n",
        "dog,\n",
        "frog,\n",
        "horse,\n",
        "Ship,\n",
        "Truck'''.split(\"\\n\")\n"
      ],
      "metadata": {
        "id": "D18j8MndVbHp"
      },
      "execution_count": 41,
      "outputs": []
    },
    {
      "cell_type": "code",
      "source": [
        "# show some misclassified examples\n",
        "\n",
        "p_test = p_test.astype(np.uint8)\n",
        "misclassified_idx = np.where(p_test != y_test)[0]\n",
        "i = np.random.choice(misclassified_idx)\n",
        "plt.imshow(x_test[i].reshape(32,32,3))\n",
        "plt.title(\"true label: %s  predicted %s\" % (labels[y_test[i]], labels[p_test[i]])); "
      ],
      "metadata": {
        "colab": {
          "base_uri": "https://localhost:8080/",
          "height": 281
        },
        "id": "lyePFJraVduy",
        "outputId": "3de01a5c-9c1e-495d-a628-a9ead6c797d6"
      },
      "execution_count": 49,
      "outputs": [
        {
          "output_type": "display_data",
          "data": {
            "image/png": "[encoded data removed]",
            "text/plain": [
              "<Figure size 432x288 with 1 Axes>"
            ]
          },
          "metadata": {
            "needs_background": "light"
          }
        }
      ]
    },
    {
      "cell_type": "code",
      "source": [
        "from torchsummary import summary\n",
        "\n",
        "summary(model, (3,32,32))"
      ],
      "metadata": {
        "colab": {
          "base_uri": "https://localhost:8080/"
        },
        "id": "Tapq1pyHplBH",
        "outputId": "63b86c1e-ac60-41e0-c597-0b776ec4c40f"
      },
      "execution_count": 50,
      "outputs": [
        {
          "output_type": "stream",
          "name": "stdout",
          "text": [
            "----------------------------------------------------------------\n",
            "        Layer (type)               Output Shape         Param #\n",
            "================================================================\n",
            "            Conv2d-1           [-1, 32, 32, 32]             896\n",
            "              ReLU-2           [-1, 32, 32, 32]               0\n",
            "       BatchNorm2d-3           [-1, 32, 32, 32]              64\n",
            "            Conv2d-4           [-1, 32, 32, 32]           9,248\n",
            "              ReLU-5           [-1, 32, 32, 32]               0\n",
            "       BatchNorm2d-6           [-1, 32, 32, 32]              64\n",
            "         MaxPool2d-7           [-1, 32, 16, 16]               0\n",
            "            Conv2d-8           [-1, 64, 16, 16]          18,496\n",
            "              ReLU-9           [-1, 64, 16, 16]               0\n",
            "      BatchNorm2d-10           [-1, 64, 16, 16]             128\n",
            "           Conv2d-11           [-1, 64, 16, 16]          36,928\n",
            "             ReLU-12           [-1, 64, 16, 16]               0\n",
            "      BatchNorm2d-13           [-1, 64, 16, 16]             128\n",
            "        MaxPool2d-14             [-1, 64, 8, 8]               0\n",
            "           Conv2d-15            [-1, 128, 8, 8]          73,856\n",
            "             ReLU-16            [-1, 128, 8, 8]               0\n",
            "      BatchNorm2d-17            [-1, 128, 8, 8]             256\n",
            "           Conv2d-18            [-1, 128, 8, 8]         147,584\n",
            "             ReLU-19            [-1, 128, 8, 8]               0\n",
            "      BatchNorm2d-20            [-1, 128, 8, 8]             256\n",
            "        MaxPool2d-21            [-1, 128, 4, 4]               0\n",
            "           Linear-22                 [-1, 1024]       2,098,176\n",
            "           Linear-23                   [-1, 10]          10,250\n",
            "================================================================\n",
            "Total params: 2,396,330\n",
            "Trainable params: 2,396,330\n",
            "Non-trainable params: 0\n",
            "----------------------------------------------------------------\n",
            "Input size (MB): 0.01\n",
            "Forward/backward pass size (MB): 2.74\n",
            "Params size (MB): 9.14\n",
            "Estimated Total Size (MB): 11.90\n",
            "----------------------------------------------------------------\n"
          ]
        }
      ]
    },
    {
      "cell_type": "code",
      "source": [
        ""
      ],
      "metadata": {
        "id": "KpzdWGkVNhwL"
      },
      "execution_count": null,
      "outputs": []
    }
  ]
}
