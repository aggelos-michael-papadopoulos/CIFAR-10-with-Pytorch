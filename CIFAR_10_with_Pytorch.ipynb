{
  "nbformat": 4,
  "nbformat_minor": 0,
  "metadata": {
    "colab": {
      "name": "CIFAR-10  with Pytorch.ipynb",
      "provenance": [],
      "authorship_tag": "ABX9TyM4FH5nwASea2KYseVl0Qle",
      "include_colab_link": true
    },
    "kernelspec": {
      "name": "python3",
      "display_name": "Python 3"
    },
    "language_info": {
      "name": "python"
    },
    "accelerator": "GPU"
  },
  "cells": [
    {
      "cell_type": "markdown",
      "metadata": {
        "id": "view-in-github",
        "colab_type": "text"
      },
      "source": [
        "<a href=\"https://colab.research.google.com/github/Papadopoulos18/CIFAR-10-with-Pytorch/blob/main/CIFAR_10_with_Pytorch.ipynb\" target=\"_parent\"><img src=\"https://colab.research.google.com/assets/colab-badge.svg\" alt=\"Open In Colab\"/></a>"
      ]
    },
    {
      "cell_type": "code",
      "execution_count": 36,
      "metadata": {
        "id": "5AZlznMDnNc2"
      },
      "outputs": [],
      "source": [
        "import torch \n",
        "import torch.nn as nn\n",
        "import torch.nn.functional as F\n",
        "import torchvision\n",
        "import torchvision.transforms as transforms\n",
        "import numpy as np\n",
        "import matplotlib.pyplot as plt\n",
        "from datetime import datetime"
      ]
    },
    {
      "cell_type": "markdown",
      "source": [
        "#load the data"
      ],
      "metadata": {
        "id": "rApXsiNFsBqK"
      }
    },
    {
      "cell_type": "code",
      "source": [
        "train_dataset = torchvision.datasets.CIFAR10(\n",
        "    root = '.',\n",
        "    train = True,\n",
        "    transform=transforms.ToTensor(),\n",
        "    download=True\n",
        ")\n",
        "\n",
        "test_dataset = torchvision.datasets.CIFAR10(\n",
        "    root = '.',\n",
        "    train = False,\n",
        "    transform=transforms.ToTensor(),\n",
        "    download=True\n",
        ")"
      ],
      "metadata": {
        "colab": {
          "base_uri": "https://localhost:8080/"
        },
        "id": "UnMcLV8cr4YY",
        "outputId": "a0fa802b-1830-4555-ef51-bf2fea74a64b"
      },
      "execution_count": 37,
      "outputs": [
        {
          "output_type": "stream",
          "name": "stdout",
          "text": [
            "Files already downloaded and verified\n",
            "Files already downloaded and verified\n"
          ]
        }
      ]
    },
    {
      "cell_type": "code",
      "source": [
        "print(train_dataset.data.shape)\n",
        "print(len(train_dataset.targets))   #targets are a list\n",
        "print(test_dataset.data.shape)\n",
        "print(len(test_dataset.data))\n",
        "\n"
      ],
      "metadata": {
        "colab": {
          "base_uri": "https://localhost:8080/"
        },
        "id": "-FahFMArsIx5",
        "outputId": "1858627c-a1b8-420c-826f-d67753855bd4"
      },
      "execution_count": 38,
      "outputs": [
        {
          "output_type": "stream",
          "name": "stdout",
          "text": [
            "(50000, 32, 32, 3)\n",
            "50000\n",
            "(10000, 32, 32, 3)\n",
            "10000\n"
          ]
        }
      ]
    },
    {
      "cell_type": "markdown",
      "source": [
        "number of classes"
      ],
      "metadata": {
        "id": "pXzGW2sVuDJV"
      }
    },
    {
      "cell_type": "code",
      "source": [
        "K = len(set(train_dataset.targets))     #train_dataset.targets->60000x1, .numpy->array([60000x1]),set->dict{0 to 9}\n",
        "print(f'Number of classes are: {K}')"
      ],
      "metadata": {
        "colab": {
          "base_uri": "https://localhost:8080/"
        },
        "id": "NIkMfzLwsYQB",
        "outputId": "f85f1a40-33a2-47bc-eeb4-6e1ca619e587"
      },
      "execution_count": 39,
      "outputs": [
        {
          "output_type": "stream",
          "name": "stdout",
          "text": [
            "Number of classes are: 10\n"
          ]
        }
      ]
    },
    {
      "cell_type": "markdown",
      "source": [
        "#Data loader\n",
        "useful because it automatically generates batches in the training loop and takes care of shuffling"
      ],
      "metadata": {
        "id": "lwRXszi8uWYV"
      }
    },
    {
      "cell_type": "code",
      "source": [
        "batch_size = 128\n",
        "train_loader = torch.utils.data.DataLoader(\n",
        "    dataset=train_dataset,\n",
        "    batch_size=batch_size,\n",
        "    shuffle=True\n",
        ")\n",
        "\n",
        "test_loader = torch.utils.data.DataLoader(\n",
        "    dataset=test_dataset,\n",
        "    batch_size=batch_size,\n",
        "    shuffle=False\n",
        ")"
      ],
      "metadata": {
        "id": "uBrRGduouFnx"
      },
      "execution_count": 40,
      "outputs": []
    },
    {
      "cell_type": "markdown",
      "source": [
        "the data transformer mapped the data to (0,1) \\\n",
        "and also **moved the color channel before the height/width**"
      ],
      "metadata": {
        "id": "ktTVUiBrum9e"
      }
    },
    {
      "cell_type": "code",
      "source": [
        "tmp_loader = torch.utils.data.DataLoader(dataset=train_dataset,\n",
        "                                         batch_size=1,\n",
        "                                         shuffle=True)\n",
        "\n",
        "for x, y in tmp_loader:\n",
        "  print(x)\n",
        "  print(x.shape)\n",
        "  break"
      ],
      "metadata": {
        "colab": {
          "base_uri": "https://localhost:8080/"
        },
        "id": "N3HUvRNZumQk",
        "outputId": "8152c29e-9b51-4b75-ef0d-a09e73f33dbb"
      },
      "execution_count": 41,
      "outputs": [
        {
          "output_type": "stream",
          "name": "stdout",
          "text": [
            "tensor([[[[0.3059, 0.3059, 0.3294,  ..., 0.1373, 0.1255, 0.1255],\n",
            "          [0.2784, 0.2784, 0.3098,  ..., 0.1412, 0.1333, 0.1333],\n",
            "          [0.2784, 0.3804, 0.4510,  ..., 0.1843, 0.1608, 0.1608],\n",
            "          ...,\n",
            "          [0.5882, 0.5490, 0.5490,  ..., 0.3020, 0.2549, 0.2627],\n",
            "          [0.4902, 0.4745, 0.4314,  ..., 0.1412, 0.1529, 0.1412],\n",
            "          [0.5216, 0.4941, 0.4549,  ..., 0.1490, 0.1529, 0.1373]],\n",
            "\n",
            "         [[0.2980, 0.2824, 0.2510,  ..., 0.0745, 0.0784, 0.0784],\n",
            "          [0.2980, 0.2980, 0.2980,  ..., 0.0863, 0.1020, 0.1137],\n",
            "          [0.3373, 0.4667, 0.5216,  ..., 0.1412, 0.1490, 0.1569],\n",
            "          ...,\n",
            "          [0.6039, 0.6039, 0.6157,  ..., 0.3333, 0.2706, 0.2745],\n",
            "          [0.4431, 0.4549, 0.4196,  ..., 0.1373, 0.1333, 0.1176],\n",
            "          [0.4706, 0.4510, 0.4078,  ..., 0.1137, 0.1098, 0.0902]],\n",
            "\n",
            "         [[0.2824, 0.2549, 0.2235,  ..., 0.0745, 0.0392, 0.0392],\n",
            "          [0.3569, 0.3843, 0.3490,  ..., 0.1333, 0.0980, 0.0980],\n",
            "          [0.4902, 0.6784, 0.6588,  ..., 0.1882, 0.1725, 0.1804],\n",
            "          ...,\n",
            "          [0.6941, 0.7137, 0.7176,  ..., 0.4549, 0.4196, 0.4353],\n",
            "          [0.4510, 0.4784, 0.4353,  ..., 0.1333, 0.1804, 0.1765],\n",
            "          [0.4588, 0.4431, 0.4000,  ..., 0.0824, 0.1020, 0.0863]]]])\n",
            "torch.Size([1, 3, 32, 32])\n"
          ]
        }
      ]
    },
    {
      "cell_type": "markdown",
      "source": [
        "#Define the model"
      ],
      "metadata": {
        "id": "Wpo2pfihvz5t"
      }
    },
    {
      "cell_type": "code",
      "source": [
        "class CNN(nn.Module):\n",
        "  def __init__(self, K):\n",
        "    super(CNN,self).__init__()\n",
        "\n",
        "    # define the conv layers\n",
        "    self.conv1 = nn.Conv2d(3, 32, kernel_size=3, stride=2)\n",
        "    self.conv2 = nn.Conv2d(32, 64, kernel_size=3, stride=2)\n",
        "    self.conv3 = nn.Conv2d(64, 128, kernel_size=3, stride=2)\n",
        "\n",
        "    # define the linear layers\n",
        "    self.fc1 = nn.Linear(128*3*3, 1024)\n",
        "    self.fc2 = nn.Linear(1024, K)\n",
        "\n",
        "  def forward(self, x):\n",
        "    x = F.relu(self.conv1(x))\n",
        "    x = F.relu(self.conv2(x))\n",
        "    x = F.relu(self.conv3(x))\n",
        "    x = x.view(-1, 128*3*3)\n",
        "    x = F.dropout(x, p=0.3)\n",
        "    x = F.relu(self.fc1(x))\n",
        "    x = F.dropout(x, p=0.2)\n",
        "    x = self.fc2(x)\n",
        "    return x \n",
        "\n",
        "\n",
        "# instantiate the model\n",
        "model = CNN(K)"
      ],
      "metadata": {
        "id": "scxPkewlvMTc"
      },
      "execution_count": 42,
      "outputs": []
    },
    {
      "cell_type": "markdown",
      "source": [
        "#move the model to the GPU"
      ],
      "metadata": {
        "id": "fDP1iGyc2awD"
      }
    },
    {
      "cell_type": "code",
      "source": [
        "device = torch.device(\"cuda:0\" if torch.cuda.is_available() else \"cpu\")\n",
        "print(device)\n",
        "model.to(device)"
      ],
      "metadata": {
        "colab": {
          "base_uri": "https://localhost:8080/"
        },
        "id": "LV3WzTKKzjP2",
        "outputId": "b03f5e2a-4fb1-4f9b-abb3-3acc64b4ee27"
      },
      "execution_count": 43,
      "outputs": [
        {
          "output_type": "stream",
          "name": "stdout",
          "text": [
            "cuda:0\n"
          ]
        },
        {
          "output_type": "execute_result",
          "data": {
            "text/plain": [
              "CNN(\n",
              "  (conv1): Conv2d(3, 32, kernel_size=(3, 3), stride=(2, 2))\n",
              "  (conv2): Conv2d(32, 64, kernel_size=(3, 3), stride=(2, 2))\n",
              "  (conv3): Conv2d(64, 128, kernel_size=(3, 3), stride=(2, 2))\n",
              "  (fc1): Linear(in_features=1152, out_features=1024, bias=True)\n",
              "  (fc2): Linear(in_features=1024, out_features=10, bias=True)\n",
              ")"
            ]
          },
          "metadata": {},
          "execution_count": 43
        }
      ]
    },
    {
      "cell_type": "markdown",
      "source": [
        "#loss and optimizer"
      ],
      "metadata": {
        "id": "CQWgYpDj2exZ"
      }
    },
    {
      "cell_type": "code",
      "source": [
        "criterion = nn.CrossEntropyLoss()\n",
        "optimizer = torch.optim.Adam(model.parameters())"
      ],
      "metadata": {
        "id": "a5OTcJGPzl_C"
      },
      "execution_count": 44,
      "outputs": []
    },
    {
      "cell_type": "markdown",
      "source": [
        "#Training\n",
        "a function to encapsulate the training loop"
      ],
      "metadata": {
        "id": "D3c26XaT2pmL"
      }
    },
    {
      "cell_type": "code",
      "source": [
        "def batch_gd(model, criterion, optimizer, train_loader, test_loader, epochs): \n",
        "  train_losses = np.zeros(epochs)\n",
        "  test_losses = np.zeros(epochs)\n",
        "  \n",
        "  for it in range(epochs):\n",
        "    tO = datetime.now()\n",
        "    train_loss = []\n",
        "    for inputs, targets in train_loader:\n",
        "      # move data to GPU\n",
        "      inputs, targets = inputs.to(device), targets.to(device)\n",
        "\n",
        "      # zero the parameter gradient\n",
        "      optimizer.zero_grad()\n",
        "\n",
        "      #forward pass\n",
        "      outputs = model(inputs)\n",
        "      loss = criterion(outputs, targets)\n",
        "\n",
        "      # backward and optimize\n",
        "      loss.backward()\n",
        "      optimizer.step()\n",
        "\n",
        "      train_loss.append(loss.item())\n",
        "    # get train loss and test loss\n",
        "    train_loss = np.mean(train_loss)\n",
        "\n",
        "    test_loss = []\n",
        "    for inputs, targets in test_loader:\n",
        "        # move data to GPU\n",
        "        inputs, targets = inputs.to(device), targets.to(device)\n",
        "        outputs = model(inputs)\n",
        "        loss = criterion(outputs, targets)\n",
        "        test_loss.append(loss.item())\n",
        "    test_loss = np.mean(test_loss)\n",
        "\n",
        "    # save losses\n",
        "    train_losses[it] = train_loss\n",
        "    test_losses[it] = test_loss\n",
        "\n",
        "    dt = datetime.now() - tO\n",
        "    print(f'Epoch {it + 1}/{epochs}, Train Loss: {train_loss: .4f}, \\\n",
        "    Test Loss: {test_loss: .4f}, duration: {dt}')\n",
        "\n",
        "  return train_losses, test_losses\n",
        "\n",
        "\n",
        "train_losses, test_losses = batch_gd(\n",
        "    model, criterion, optimizer, train_loader, test_loader, epochs=9) \n"
      ],
      "metadata": {
        "colab": {
          "base_uri": "https://localhost:8080/"
        },
        "id": "pEdI0jZf2hma",
        "outputId": "26b486c8-3e19-4b4c-9c3d-a82ed6e378d1"
      },
      "execution_count": 45,
      "outputs": [
        {
          "output_type": "stream",
          "name": "stdout",
          "text": [
            "Epoch 1/9, Train Loss:  1.6568,     Test Loss:  1.4129, duration: 0:00:14.389013\n",
            "Epoch 2/9, Train Loss:  1.3507,     Test Loss:  1.2858, duration: 0:00:13.989585\n",
            "Epoch 3/9, Train Loss:  1.2260,     Test Loss:  1.1923, duration: 0:00:13.932708\n",
            "Epoch 4/9, Train Loss:  1.1327,     Test Loss:  1.1472, duration: 0:00:14.102943\n",
            "Epoch 5/9, Train Loss:  1.0473,     Test Loss:  1.0870, duration: 0:00:14.758573\n",
            "Epoch 6/9, Train Loss:  0.9829,     Test Loss:  1.0615, duration: 0:00:14.016651\n",
            "Epoch 7/9, Train Loss:  0.9202,     Test Loss:  1.0632, duration: 0:00:14.101784\n",
            "Epoch 8/9, Train Loss:  0.8601,     Test Loss:  1.0222, duration: 0:00:13.952028\n",
            "Epoch 9/9, Train Loss:  0.8196,     Test Loss:  1.0201, duration: 0:00:13.907934\n"
          ]
        }
      ]
    },
    {
      "cell_type": "markdown",
      "source": [
        "plot train loss and test loss per iteration\n"
      ],
      "metadata": {
        "id": "7gdnX-474nrS"
      }
    },
    {
      "cell_type": "code",
      "source": [
        "plt.plot(train_losses, label= 'train loss')\n",
        "plt.plot(test_losses, label= 'test loss')\n",
        "plt.legend()\n",
        "plt.show()\n"
      ],
      "metadata": {
        "colab": {
          "base_uri": "https://localhost:8080/",
          "height": 265
        },
        "id": "H3gV7imk3GlL",
        "outputId": "03b14e40-9284-436f-fe01-5182689ec052"
      },
      "execution_count": 46,
      "outputs": [
        {
          "output_type": "display_data",
          "data": {
            "image/png": "[encoded data removed]",
            "text/plain": [
              "<Figure size 432x288 with 1 Axes>"
            ]
          },
          "metadata": {
            "needs_background": "light"
          }
        }
      ]
    },
    {
      "cell_type": "markdown",
      "source": [
        "# Accuracy"
      ],
      "metadata": {
        "id": "adybErIb5eMI"
      }
    },
    {
      "cell_type": "code",
      "source": [
        "n_correct = 0.\n",
        "n_total = 0.\n",
        "i=0\n",
        "\n",
        "for inputs, targets in train_loader:\n",
        "  i+=1\n",
        "  # move the data to GPU\n",
        "  inputs, targets = inputs.to(device), targets.to(device)\n",
        "  if ( i==1):\n",
        "    print(inputs.shape)\n",
        "  # forward pass\n",
        "  outputs = model(inputs)\n",
        "\n",
        "  # get predictions\n",
        "  # torch.max returns both max and argmax\n",
        "  _, predictions = torch.max(outputs, 1)\n",
        "\n",
        "  # update counts\n",
        "\n",
        "  n_correct += (predictions == targets).sum().item()\n",
        "  n_total += targets.shape[0]\n",
        "\n",
        "train_acc = n_correct/n_total\n",
        "# print(\"for \", i)\n",
        "# print(inputs.shape)\n",
        "# print(f'------{predictions.shape}--{outputs.shape}----{targets.shape}')\n",
        "n_correct = 0\n",
        "n_total = 0\n",
        "\n",
        "for inputs, targets in test_loader:\n",
        "  inputs, targets = inputs.to(device), targets.to(device)\n",
        "\n",
        "  # forward pass\n",
        "  outputs = model(inputs)\n",
        "\n",
        "  _, predictions = torch.max(outputs, 1)\n",
        "\n",
        "  # update counts\n",
        "  n_correct += (predictions == targets).sum().item()\n",
        "  n_total += targets.shape[0]\n",
        "\n",
        "test_acc = n_correct/n_total\n",
        "\n",
        "print(f'Train acc: {train_acc: .4f}, Test acc: {test_acc: .4f}')\n"
      ],
      "metadata": {
        "colab": {
          "base_uri": "https://localhost:8080/"
        },
        "id": "4OOrgcIz5Ya4",
        "outputId": "819bf503-5dc3-4ee8-9436-afe4aef8c7ff"
      },
      "execution_count": 48,
      "outputs": [
        {
          "output_type": "stream",
          "name": "stdout",
          "text": [
            "torch.Size([128, 3, 32, 32])\n",
            "Train acc:  0.7393, Test acc:  0.6437\n"
          ]
        }
      ]
    },
    {
      "cell_type": "markdown",
      "source": [
        "#Confusion Matrix"
      ],
      "metadata": {
        "id": "Fb0zO_eD5mci"
      }
    },
    {
      "cell_type": "code",
      "source": [
        "from sklearn.metrics import confusion_matrix\n",
        "import itertools\n",
        "\n",
        "def plot_confusion_matrix(cm,\n",
        "                          classes,\n",
        "                          normalize=False,\n",
        "                          title='Confusion Matrix',\n",
        "                          cmap=plt.cm.Blues):\n",
        "  \n",
        "  # This function prints and plots the confusion matrix.\n",
        "  # Normalization can be applied by setting 'normalize=True'\n",
        "\n",
        "  if normalize:\n",
        "    cm = cm.astype('float') / (cm.sum(axis=1)[:, np.newaxis])\n",
        "    print('Normalize confusion Matrix')\n",
        "  else:\n",
        "    print('Confusion Matrix without normalization')\n",
        "\n",
        "  print(cm)\n",
        "\n",
        "  plt.imshow(cm, interpolation='nearest', cmap=cmap)\n",
        "  plt.title(title)\n",
        "  plt.colorbar()\n",
        "  tick_marks = np.arange(len(classes))\n",
        "  plt.xticks(tick_marks, classes, rotation=45)\n",
        "  plt.yticks(tick_marks, classes)\n",
        "\n",
        "  fmt = '.2f' if normalize else 'd'\n",
        "  thresh = cm.max() / 2.\n",
        "  for i, j in itertools.product(range(cm.shape[0]), range(cm.shape[1])):\n",
        "    plt.text(j, i, format(cm[i,j], fmt),\n",
        "             horizontalalignment=\"center\",\n",
        "             color=\"white\" if cm[i,j] > thresh else \"black\")\n",
        "    \n",
        "  \n",
        "  plt.tight_layout()\n",
        "  plt.ylabel('True label')\n",
        "  plt.xlabel('predicted label')\n",
        "  plt.show()\n",
        "\n",
        "\n",
        "# get all predictions in an array and plot confusion matrix\n",
        "\n",
        "x_test = test_dataset.data\n",
        "y_test = np.array(test_dataset.targets)\n",
        "p_test = np.array([])\n",
        " \n",
        "for inputs, targets in test_loader:\n",
        "  # move date to GPU\n",
        "  inputs, targets = inputs.to(device), targets.to(device)\n",
        "\n",
        "  # forward pass\n",
        "  outputs = model(inputs)\n",
        "\n",
        "  # Get predictions\n",
        "  _, predictions = torch.max(outputs, 1)\n",
        "\n",
        "  # update p_test\n",
        "  p_test = np.concatenate((p_test, predictions.cpu().numpy()))\n",
        "\n",
        "cm = confusion_matrix(y_test, p_test)\n",
        "plot_confusion_matrix(cm, list(range(10)))"
      ],
      "metadata": {
        "colab": {
          "base_uri": "https://localhost:8080/",
          "height": 502
        },
        "id": "1wvEifhg5m2X",
        "outputId": "cabec515-b3db-40e7-e7ba-ac36156a66a3"
      },
      "execution_count": 50,
      "outputs": [
        {
          "output_type": "stream",
          "name": "stdout",
          "text": [
            "Confusion Matrix without normalization\n",
            "[[672  20  68  38  16  11  14  11 104  46]\n",
            " [ 27 742  15  14  11   7   7   4  33 140]\n",
            " [ 56   5 495  93 132  82  84  23  16  14]\n",
            " [ 16   8  76 489  81 213  60  23  11  23]\n",
            " [ 27   8  90  86 557  55  84  71  17   5]\n",
            " [ 13   5  56 186  61 601  34  31   5   8]\n",
            " [  9   3  30  65  68  57 740   9   5  14]\n",
            " [ 20   2  34  69  78 103  17 647   2  28]\n",
            " [ 73  50  25  20   9  16   9   1 769  28]\n",
            " [ 32 101  14  25   6  16  16  17  38 735]]\n"
          ]
        },
        {
          "output_type": "display_data",
          "data": {
            "image/png": "[encoded data removed]",
            "text/plain": [
              "<Figure size 432x288 with 2 Axes>"
            ]
          },
          "metadata": {
            "needs_background": "light"
          }
        }
      ]
    },
    {
      "cell_type": "code",
      "source": [
        "# label mapping \n",
        "labels = '''airplane,\n",
        "Automobile,\n",
        "bird,\n",
        "Cat,\n",
        "Deer,\n",
        "dog,\n",
        "frog,\n",
        "horse,\n",
        "Ship,\n",
        "Truck'''.split(\"\\n\")\n"
      ],
      "metadata": {
        "id": "0QFbJQAj5vxB"
      },
      "execution_count": 51,
      "outputs": []
    },
    {
      "cell_type": "code",
      "source": [
        "# show some misclassified examples\n",
        "\n",
        "p_test = p_test.astype(np.uint8)\n",
        "misclassified_idx = np.where(p_test != y_test)[0]\n",
        "i = np.random.choice(misclassified_idx)\n",
        "plt.imshow(x_test[i].reshape(32,32,3))\n",
        "plt.title(\"true label: %s  predicted %s\" % (labels[y_test[i]], labels[p_test[i]]));"
      ],
      "metadata": {
        "colab": {
          "base_uri": "https://localhost:8080/",
          "height": 281
        },
        "id": "Pstn3sXf7jzX",
        "outputId": "2203aec9-b9e7-49a1-9816-17c57e241b44"
      },
      "execution_count": 59,
      "outputs": [
        {
          "output_type": "display_data",
          "data": {
            "image/png": "[encoded data removed]",
            "text/plain": [
              "<Figure size 432x288 with 1 Axes>"
            ]
          },
          "metadata": {
            "needs_background": "light"
          }
        }
      ]
    },
    {
      "cell_type": "code",
      "source": [
        ""
      ],
      "metadata": {
        "id": "4hXJvkul7g_C"
      },
      "execution_count": 53,
      "outputs": []
    }
  ]
}